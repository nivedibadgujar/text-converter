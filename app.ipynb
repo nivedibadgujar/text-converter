{
 "cells": [
  {
   "cell_type": "code",
   "execution_count": 1,
   "id": "9d37de76-c51e-4323-9cbc-39992c39cc42",
   "metadata": {},
   "outputs": [],
   "source": [
    "import tkinter as tk\n",
    "from tkinter import *\n",
    "from tkinter import filedialog\n",
    "from tkinter.ttk import Combobox\n",
    "import pyttsx3\n",
    "import os\n",
    "from gtts import gTTS\n",
    "from playsound import playsound\n"
   ]
  },
  {
   "cell_type": "code",
   "execution_count": 2,
   "id": "0a613eaf-fcf5-43d9-97cb-da5ae2e64d6c",
   "metadata": {},
   "outputs": [],
   "source": [
    "root = Tk()\n",
    "root.title(\"Simplilearn Text to Speech Converter\")\n",
    "root.geometry(\"1000x580+200+80\")\n",
    "root.resizable(False,False)\n",
    "root.configure(bg=\"#F7AC40\")\n",
    "#root.mainloop()"
   ]
  },
  {
   "cell_type": "code",
   "execution_count": 3,
   "id": "07ff7c72-92eb-47d2-b38d-845b829090ee",
   "metadata": {},
   "outputs": [],
   "source": [
    "tts=pyttsx3.init()\n",
    "def speaknow():\n",
    "    text=text_box.get(1.0,END)\n",
    "    gender=gender_box.get()\n",
    "    speed = speed_box.get()\n",
    "    voices = tts.getProperty('voices')\n",
    "\n",
    "    def setvoice():\n",
    "        if(gender == 'Male'):\n",
    "            tts.setProperty('voice',voices[0].id)\n",
    "            tts.say(text)\n",
    "            tts.runAndWait()\n",
    "        else:\n",
    "            tts.setProperty('voice',voices[1].id)\n",
    "            tts.say(text)\n",
    "            tts.eunAndWait()\n",
    "    if(text):\n",
    "        if(speed == 'Fast'):\n",
    "            tts.setProperty('rate',250)\n",
    "            setvoice()\n",
    "        elif(speed == 'Medium'):\n",
    "            tts.setProperty('rate',150)\n",
    "            setvoice()\n",
    "        else:\n",
    "            tts.setProperty('rate',60)\n",
    "            setvoice()        "
   ]
  },
  {
   "cell_type": "code",
   "execution_count": 4,
   "id": "008acb2f-8193-4e8a-a8f1-0b95f264a733",
   "metadata": {},
   "outputs": [],
   "source": [
    "simpli_logo = PhotoImage(file = \"C:/Users/user/file.png\")\n",
    "Label(root, image=simpli_logo,bg=\"#F7AC40\").place(x=580,y=439)\n",
    "#root.mainloop()"
   ]
  },
  {
   "cell_type": "code",
   "execution_count": 5,
   "id": "3044c9c9-58db-4861-8ebb-3eacf82befc2",
   "metadata": {},
   "outputs": [],
   "source": [
    "logo_image = PhotoImage(file = \"C:/Users/user/file.png\")\n",
    "root.iconphoto(False, logo_image)\n",
    "#root.mainloop()"
   ]
  },
  {
   "cell_type": "code",
   "execution_count": 6,
   "id": "6e6c16a8-9f15-436c-a6fa-3ceece991bf9",
   "metadata": {},
   "outputs": [],
   "source": [
    "upper_f = Frame(root,bg = \"#14A7DD\",width = 1200,height=130)\n",
    "upper_f.place(x=0,y=0)\n",
    "\n",
    "picture=PhotoImage(file = \"C:/Users/user/file.png\")\n",
    "label1=Label(upper_f,image=picture,bg=\"#14A7DD\")\n",
    "label1.place(x=150,y=20)\n",
    "#root.mainloop()\n"
   ]
  },
  {
   "cell_type": "code",
   "execution_count": 7,
   "id": "bfe633fe-767b-4259-a512-579245d6c3da",
   "metadata": {},
   "outputs": [],
   "source": [
    "label2=Label(upper_f, text=\"Text to speech converter\",font=\"TimesNewroman 40 bold\", bg=\"#14A7DD\", fg='white')\n",
    "label2.place(x=150,y=35)\n",
    "#root.mainloop()"
   ]
  },
  {
   "cell_type": "code",
   "execution_count": 8,
   "id": "38da1764-4609-4ef4-9ab6-49f33881060f",
   "metadata": {},
   "outputs": [],
   "source": [
    "text_box=Text(root, font=\"calibri 20\",bg='white',relief=GROOVE,wrap=WORD,bd=0)\n",
    "text_box.place(x=30,y=150,width=940,height=180)\n",
    "#root.mainloop()"
   ]
  },
  {
   "cell_type": "code",
   "execution_count": 9,
   "id": "d973a4d5-5395-4af3-9fc0-ee7291dad4d0",
   "metadata": {},
   "outputs": [],
   "source": [
    "gender_box=Combobox(root,values=['Male','Female'],font=\"Robote 12\",state='r',width=12)\n",
    "gender_box.place(x=340,y=400)\n",
    "gender_box.set('Male')\n",
    "#root.mainloop()"
   ]
  },
  {
   "cell_type": "code",
   "execution_count": 10,
   "id": "27ec0254-1f01-4eb5-b5f3-9c88388b4441",
   "metadata": {},
   "outputs": [],
   "source": [
    "speed_box=Combobox(root,values=['Fast','Medium','Slow'],font=\"Robote 12\",state='r',width=12)\n",
    "speed_box.place(x=540,y=400)\n",
    "speed_box.set('Medium')\n",
    "#root.mainloop()"
   ]
  },
  {
   "cell_type": "code",
   "execution_count": 11,
   "id": "ffbcc89d-6938-4cfc-8d30-2afa86199ab6",
   "metadata": {},
   "outputs": [],
   "source": [
    "label3=Label(root,text=\"Select Voice\",font='TimesNewRoman 15 bold',bg=\"#F7AC40\",fg='White')\n",
    "label3.place(x=340,y=370)\n",
    "label4=Label(root,text=\"Select Speed\",font='TimesNewRoman 15 bold',bg=\"#F7AC40\",fg='White')\n",
    "label4.place(x=540,y=370)\n",
    "#root.mainloop()"
   ]
  },
  {
   "cell_type": "code",
   "execution_count": null,
   "id": "f7adde8b-ac05-4211-9bad-9798f001b090",
   "metadata": {},
   "outputs": [],
   "source": [
    "play_button=PhotoImage(file=\"C:/Users/user/play.png\")\n",
    "play_btn=Button(root,text=\"Play\",compound=LEFT,image=play_button,bg='White',width=130,font=\"arial 14 bold\",borderwidth='0.1c',command=speaknow)\n",
    "play_btn.place(x=435,y=450)\n",
    "root.mainloop()"
   ]
  },
  {
   "cell_type": "code",
   "execution_count": null,
   "id": "59eda961-e3de-4104-91d6-0ce2d84b38e5",
   "metadata": {},
   "outputs": [],
   "source": []
  },
  {
   "cell_type": "code",
   "execution_count": null,
   "id": "f508ce23-3768-41cf-84d9-a1ccdc1b1136",
   "metadata": {},
   "outputs": [],
   "source": []
  }
 ],
 "metadata": {
  "kernelspec": {
   "display_name": "Python 3 (ipykernel)",
   "language": "python",
   "name": "python3"
  },
  "language_info": {
   "codemirror_mode": {
    "name": "ipython",
    "version": 3
   },
   "file_extension": ".py",
   "mimetype": "text/x-python",
   "name": "python",
   "nbconvert_exporter": "python",
   "pygments_lexer": "ipython3",
   "version": "3.12.7"
  }
 },
 "nbformat": 4,
 "nbformat_minor": 5
}
